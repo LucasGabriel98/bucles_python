{
  "nbformat": 4,
  "nbformat_minor": 0,
  "metadata": {
    "colab": {
      "name": "Untitled0.ipynb",
      "provenance": [],
      "authorship_tag": "ABX9TyNhjemFF5lYYeNW2k9dcjw6",
      "include_colab_link": true
    },
    "kernelspec": {
      "name": "python3",
      "display_name": "Python 3"
    },
    "language_info": {
      "name": "python"
    }
  },
  "cells": [
    {
      "cell_type": "markdown",
      "metadata": {
        "id": "view-in-github",
        "colab_type": "text"
      },
      "source": [
        "<a href=\"https://colab.research.google.com/github/LucasGabriel98/bucles_python/blob/master/Untitled0.ipynb\" target=\"_parent\"><img src=\"https://colab.research.google.com/assets/colab-badge.svg\" alt=\"Open In Colab\"/></a>"
      ]
    },
    {
      "cell_type": "code",
      "execution_count": null,
      "metadata": {
        "id": "mH3Cju4xuZs8"
      },
      "outputs": [],
      "source": [
        ""
      ]
    },
    {
      "cell_type": "markdown",
      "source": [
        "#Imprimir texto\n"
      ],
      "metadata": {
        "id": "NQZduYsqv3YO"
      }
    },
    {
      "cell_type": "code",
      "source": [
        "print('Bienvenidos a coder Phyton')"
      ],
      "metadata": {
        "colab": {
          "base_uri": "https://localhost:8080/"
        },
        "id": "RphkjZ2uwEor",
        "outputId": "cf4a2c72-644d-42f7-f894-be0134e7b277"
      },
      "execution_count": null,
      "outputs": [
        {
          "output_type": "stream",
          "name": "stdout",
          "text": [
            "Bienvenidos a coder Phyton\n"
          ]
        }
      ]
    },
    {
      "cell_type": "code",
      "source": [
        "type ( 3 )\n"
      ],
      "metadata": {
        "colab": {
          "base_uri": "https://localhost:8080/"
        },
        "id": "ifJEou2S4rW7",
        "outputId": "22b835b9-e253-4710-d0ac-9007ccc704aa"
      },
      "execution_count": null,
      "outputs": [
        {
          "output_type": "execute_result",
          "data": {
            "text/plain": [
              "int"
            ]
          },
          "metadata": {},
          "execution_count": 3
        }
      ]
    },
    {
      "cell_type": "code",
      "source": [
        "type (2.56)"
      ],
      "metadata": {
        "colab": {
          "base_uri": "https://localhost:8080/"
        },
        "id": "O64lW5xH4zZS",
        "outputId": "d374ba15-94dc-4a3e-a940-dec95c5d6263"
      },
      "execution_count": null,
      "outputs": [
        {
          "output_type": "execute_result",
          "data": {
            "text/plain": [
              "float"
            ]
          },
          "metadata": {},
          "execution_count": 4
        }
      ]
    },
    {
      "cell_type": "code",
      "source": [
        "print('hola' + ' paola')"
      ],
      "metadata": {
        "colab": {
          "base_uri": "https://localhost:8080/"
        },
        "id": "uy_6ZRXE43RS",
        "outputId": "bcd39ea7-749b-4687-b89d-bd9c2a8211be"
      },
      "execution_count": null,
      "outputs": [
        {
          "output_type": "stream",
          "name": "stdout",
          "text": [
            "hola paola\n"
          ]
        }
      ]
    },
    {
      "cell_type": "code",
      "source": [
        "value = 2\n",
        "value2 = 2.5\n",
        "value3 = \"hola\"\n",
        "print(value)\n",
        "print(type(value2))"
      ],
      "metadata": {
        "colab": {
          "base_uri": "https://localhost:8080/"
        },
        "id": "KPlCQr2N5XbL",
        "outputId": "12c9bc66-e39b-4a05-fd3a-aa5c6f3cd391"
      },
      "execution_count": null,
      "outputs": [
        {
          "output_type": "stream",
          "name": "stdout",
          "text": [
            "2\n",
            "<class 'float'>\n"
          ]
        }
      ]
    },
    {
      "cell_type": "code",
      "source": [
        "valuechain = \"holamundo\" .format(value)\n",
        "print(valuechain)\n",
        "print(\"%\" * 5)\n",
        "\n",
        "valuechain2 =\"hola \""
      ],
      "metadata": {
        "colab": {
          "base_uri": "https://localhost:8080/"
        },
        "id": "MxCAzYvf6MC8",
        "outputId": "7c5cb4cb-1ae4-43ba-d008-79bb9a24f23b"
      },
      "execution_count": null,
      "outputs": [
        {
          "output_type": "stream",
          "name": "stdout",
          "text": [
            "holamundo\n",
            "%%%%%\n"
          ]
        }
      ]
    },
    {
      "cell_type": "code",
      "source": [
        "value = 'mundo'\n",
        "value2 = ' phyton'\n",
        "print(valuechain)\n",
        "\n",
        "valuechain = f'hola {value} {value2}'"
      ],
      "metadata": {
        "colab": {
          "base_uri": "https://localhost:8080/"
        },
        "id": "TAz_d1Hf62v6",
        "outputId": "ab43dcda-7672-498e-cc0c-9a164d93e1ca"
      },
      "execution_count": null,
      "outputs": [
        {
          "output_type": "stream",
          "name": "stdout",
          "text": [
            "hola mundo  phyton\n"
          ]
        }
      ]
    },
    {
      "cell_type": "code",
      "source": [
        "print(r'c:users/franco/\\nphyton')\n",
        "print(print(\"\"\"\n",
        "hola mun\n",
        "do\n",
        "hyton \n",
        "cod\n",
        " \"\"\"))\n"
      ],
      "metadata": {
        "colab": {
          "base_uri": "https://localhost:8080/"
        },
        "id": "GWzkaqp071EQ",
        "outputId": "5bf61de5-51ad-4574-ce11-c1a46d3555e2"
      },
      "execution_count": null,
      "outputs": [
        {
          "output_type": "stream",
          "name": "stdout",
          "text": [
            "c:users/franco/\\nphyton\n",
            "\n",
            "hola mun\n",
            "do\n",
            "hyton \n",
            "cod\n",
            " \n",
            "None\n"
          ]
        }
      ]
    },
    {
      "cell_type": "code",
      "source": [
        "value = input('ingresa tu edad: ')\n",
        "\n",
        "print(type(value))\n",
        "\n",
        "value2 = input('ingresa tu eddad: ')\n",
        "\n",
        "print(type(int(value2)))\n",
        "\n",
        "value3 = int(input('edad escrita'))\n"
      ],
      "metadata": {
        "colab": {
          "base_uri": "https://localhost:8080/",
          "height": 287
        },
        "id": "4J1ogJyIFuP1",
        "outputId": "4e0a39ae-7124-42ae-8509-84ddb8e26f02"
      },
      "execution_count": null,
      "outputs": [
        {
          "name": "stdout",
          "output_type": "stream",
          "text": [
            "ingresa tu edad: 1\n",
            "<class 'str'>\n",
            "ingresa tu eddad: \n"
          ]
        },
        {
          "output_type": "error",
          "ename": "ValueError",
          "evalue": "ignored",
          "traceback": [
            "\u001b[0;31m---------------------------------------------------------------------------\u001b[0m",
            "\u001b[0;31mValueError\u001b[0m                                Traceback (most recent call last)",
            "\u001b[0;32m<ipython-input-39-3f5476e6435e>\u001b[0m in \u001b[0;36m<module>\u001b[0;34m()\u001b[0m\n\u001b[1;32m      5\u001b[0m \u001b[0mvalue2\u001b[0m \u001b[0;34m=\u001b[0m \u001b[0minput\u001b[0m\u001b[0;34m(\u001b[0m\u001b[0;34m'ingresa tu eddad: '\u001b[0m\u001b[0;34m)\u001b[0m\u001b[0;34m\u001b[0m\u001b[0;34m\u001b[0m\u001b[0m\n\u001b[1;32m      6\u001b[0m \u001b[0;34m\u001b[0m\u001b[0m\n\u001b[0;32m----> 7\u001b[0;31m \u001b[0mprint\u001b[0m\u001b[0;34m(\u001b[0m\u001b[0mtype\u001b[0m\u001b[0;34m(\u001b[0m\u001b[0mint\u001b[0m\u001b[0;34m(\u001b[0m\u001b[0mvalue2\u001b[0m\u001b[0;34m)\u001b[0m\u001b[0;34m)\u001b[0m\u001b[0;34m)\u001b[0m\u001b[0;34m\u001b[0m\u001b[0;34m\u001b[0m\u001b[0m\n\u001b[0m\u001b[1;32m      8\u001b[0m \u001b[0;34m\u001b[0m\u001b[0m\n\u001b[1;32m      9\u001b[0m \u001b[0mvalue3\u001b[0m \u001b[0;34m=\u001b[0m \u001b[0mint\u001b[0m\u001b[0;34m(\u001b[0m\u001b[0minput\u001b[0m\u001b[0;34m(\u001b[0m\u001b[0;34m'edad escrita'\u001b[0m\u001b[0;34m)\u001b[0m\u001b[0;34m)\u001b[0m\u001b[0;34m\u001b[0m\u001b[0;34m\u001b[0m\u001b[0m\n",
            "\u001b[0;31mValueError\u001b[0m: invalid literal for int() with base 10: ''"
          ]
        }
      ]
    },
    {
      "cell_type": "code",
      "source": [
        "numero_uno = 1\n",
        "numero_dos = 123\n",
        "\n",
        "\n",
        "numero_uno += numero_dos\n",
        "print(numero_uno)"
      ],
      "metadata": {
        "colab": {
          "base_uri": "https://localhost:8080/"
        },
        "id": "1dKSWUasGlBU",
        "outputId": "2e6db777-4831-4152-d37c-5f5c94ca50fd"
      },
      "execution_count": null,
      "outputs": [
        {
          "output_type": "stream",
          "name": "stdout",
          "text": [
            "124\n"
          ]
        }
      ]
    },
    {
      "cell_type": "code",
      "source": [
        "nota1 = 6\n",
        "nota2 = 10\n",
        "notafinal = nota1 % nota2\n",
        "print(notafinal)\n"
      ],
      "metadata": {
        "colab": {
          "base_uri": "https://localhost:8080/"
        },
        "id": "EP0lmvD7Ki5e",
        "outputId": "27e64487-ffa4-43f8-8e48-415d5f264903"
      },
      "execution_count": null,
      "outputs": [
        {
          "output_type": "stream",
          "name": "stdout",
          "text": [
            "6\n"
          ]
        }
      ]
    },
    {
      "cell_type": "code",
      "source": [
        "nota1=int(input(\"nota priumer examen\"))*0.4\n",
        "nota2=int(input(\"nota segundo examen\"))*0.6\n",
        "final = nota1 + nota2\n",
        "print(final)"
      ],
      "metadata": {
        "colab": {
          "base_uri": "https://localhost:8080/"
        },
        "id": "UJR9R-LAK2Cl",
        "outputId": "96045976-7762-4707-9f78-dc09f854c3ff"
      },
      "execution_count": null,
      "outputs": [
        {
          "output_type": "stream",
          "name": "stdout",
          "text": [
            "nota priumer examen6\n",
            "nota segundo examen10\n",
            "8.4\n"
          ]
        }
      ]
    },
    {
      "cell_type": "code",
      "source": [
        "cadena_1 = \"moderno\"\n",
        "cadena_2 = \"phyton\"\n",
        "cadena_3 = \"es un lenguaje\"\n",
        "cadena_4 = \" de programacion\"\n",
        "\n",
        "print(f'{cadena_2}{cadena_3}{cadena_4}{cadena_1}')"
      ],
      "metadata": {
        "colab": {
          "base_uri": "https://localhost:8080/"
        },
        "id": "yKO9-oLdLvvc",
        "outputId": "7a9c4ea7-6ea3-4085-f582-d0be9515d38c"
      },
      "execution_count": null,
      "outputs": [
        {
          "output_type": "stream",
          "name": "stdout",
          "text": [
            "phytones un lenguaje de programacionmoderno\n"
          ]
        }
      ]
    },
    {
      "cell_type": "code",
      "source": [
        "cadena = \"acitametaM ,5.8 ,otipeP ordeP\"\n",
        "reversechain = cadena[::-1]\n",
        "print(reversechain)"
      ],
      "metadata": {
        "colab": {
          "base_uri": "https://localhost:8080/"
        },
        "id": "NV741QqOMQf8",
        "outputId": "dcc46b19-fd59-4fdd-c3f8-88e0733b8d6f"
      },
      "execution_count": null,
      "outputs": [
        {
          "output_type": "stream",
          "name": "stdout",
          "text": [
            "Pedro Pepito, 8.5, Matematica\n"
          ]
        }
      ]
    },
    {
      "cell_type": "code",
      "source": [
        "my_list = [1, 2, 3, '4']\n",
        "my_listv2 = [1, 2, [3, 4]]\n",
        "\n",
        "my_listv3 = [[1,2], 3, 4,5]\n",
        "              #0    1  2 3\n",
        "print(my_listv3[0])\n",
        "print(my_listv3[0][1])\n",
        "print(my_listv3[1:])\n",
        "my_listv4 = [6, 7, 8]\n",
        "print(my_listv3 + my_listv4)\n",
        "my_listv3[2] = 10 #se actualiza\n",
        "print(my_listv3)\n",
        "\n",
        "my_listv3[1:3] = ['phyton','coder']\n",
        "print(my_listv3)\n",
        "###my_listv3[1:3] = [] #declarar lista vacia, tambien list()\n",
        "\n",
        "value = [1, 2]\n",
        "value_b = list(value) #asi generas una lista que contenga estos elementos\n",
        "\n",
        "print(my_listv3)\n",
        "\n",
        "print(value)\n",
        "print(value_b)\n",
        "\n",
        "print('#' * 50)\n",
        "\n",
        "my_listv3.append([2123,945])\n",
        "print(my_listv3)\n",
        "\n",
        "my_listv3 = [[1,2], 3, 4, 5, [10,11]]\n",
        "my_listv3.extend('hola mundo')\n",
        "print(my_listv3)\n",
        "\n",
        "my_listv3.append(3**2+1-22+5)\n",
        "print(my_listv3)\n",
        "\n",
        "#my_listv3.pop()\n",
        "#print(my_listv3)\n",
        "\n",
        "#my_listv3.pop(5)\n",
        "my_listv3.append(3)\n",
        "print(my_listv3)\n",
        "\n",
        "print(my_listv3.remove(3))\n",
        "my_listv3.count(3)\n",
        "\n",
        "my_listv3.append('hola mundo')\n",
        "\n",
        "my_listv3.remove('hola mundo')\n",
        "print(my_listv3)\n",
        "\n",
        "\n",
        "my_listv3.index(3)\n",
        "print(my_listv3)\n"
      ],
      "metadata": {
        "colab": {
          "base_uri": "https://localhost:8080/"
        },
        "id": "rzXxz1Ywi0L0",
        "outputId": "6bbf292a-24f7-4303-d786-224fbe6f7e34"
      },
      "execution_count": 44,
      "outputs": [
        {
          "output_type": "stream",
          "name": "stdout",
          "text": [
            "[1, 2]\n",
            "2\n",
            "[3, 4, 5]\n",
            "[[1, 2], 3, 4, 5, 6, 7, 8]\n",
            "[[1, 2], 3, 10, 5]\n",
            "[[1, 2], 'phyton', 'coder', 5]\n",
            "[[1, 2], 'phyton', 'coder', 5]\n",
            "[1, 2]\n",
            "[1, 2]\n",
            "##################################################\n",
            "[[1, 2], 'phyton', 'coder', 5, [2123, 945]]\n",
            "[[1, 2], 3, 4, 5, [10, 11], 'h', 'o', 'l', 'a', ' ', 'm', 'u', 'n', 'd', 'o']\n",
            "[[1, 2], 3, 4, 5, [10, 11], 'h', 'o', 'l', 'a', ' ', 'm', 'u', 'n', 'd', 'o', -7]\n",
            "[[1, 2], 3, 4, 5, [10, 11], 'h', 'o', 'l', 'a', ' ', 'm', 'u', 'n', 'd', 'o', -7, 3]\n",
            "None\n",
            "[[1, 2], 4, 5, [10, 11], 'h', 'o', 'l', 'a', ' ', 'm', 'u', 'n', 'd', 'o', -7, 3]\n",
            "[[1, 2], 4, 5, [10, 11], 'h', 'o', 'l', 'a', ' ', 'm', 'u', 'n', 'd', 'o', -7, 3]\n"
          ]
        }
      ]
    },
    {
      "cell_type": "code",
      "source": [
        "list1 = [1, 2, 3, 4]\n",
        "print(list1)\n",
        "list1.append('hola')\n",
        "print(list1)\n",
        "\n",
        "list2 = ['adios']\n",
        "print(list2)\n",
        "list2.append(1234)\n",
        "print(list2)\n",
        "\n",
        "\n",
        "list3 = [list1.pop()]\n",
        "print(list3)\n",
        "\n",
        "list4 = [list2.pop(1)]\n",
        "print(list4)\n",
        "\n"
      ],
      "metadata": {
        "colab": {
          "base_uri": "https://localhost:8080/"
        },
        "id": "2WvZZAuEwuUK",
        "outputId": "46682bc6-bee8-4e64-928d-71ca71deda77"
      },
      "execution_count": 79,
      "outputs": [
        {
          "output_type": "stream",
          "name": "stdout",
          "text": [
            "[1, 2, 3, 4]\n",
            "[1, 2, 3, 4, 'hola']\n",
            "['adios']\n",
            "['adios', 1234]\n",
            "['hola']\n",
            "[1234]\n"
          ]
        }
      ]
    },
    {
      "cell_type": "code",
      "source": [
        "lista1 = []\n",
        "lista2 = []\n",
        "\n",
        "lista1.extend([1234, 'hola'])\n",
        "lista2.extend(['todobien',1234])\n",
        "\n",
        "\n",
        "lista3 = list(lista1)\n",
        "print(lista3)\n"
      ],
      "metadata": {
        "colab": {
          "base_uri": "https://localhost:8080/"
        },
        "id": "qsNu0ZT4z-AC",
        "outputId": "87a7b99a-2be7-422f-f036-f996ab55edd4"
      },
      "execution_count": 84,
      "outputs": [
        {
          "output_type": "stream",
          "name": "stdout",
          "text": [
            "[1234, 'hola']\n"
          ]
        }
      ]
    },
    {
      "cell_type": "code",
      "source": [
        "tupla = (1,2 ,3 ,4, 5)\n",
        "\n",
        "lista = [1,2, 3, 4, 5,]\n",
        "\n",
        "lista = [1]\n",
        "tupla = (1,)\n",
        "\n",
        "lista = [] # o list() vacia\n",
        "tupla = () # o tuple() vacia\n",
        "\n",
        "\n",
        "tuplav2 = (1,2 ,3 ,4, 5)\n",
        "lista.extend(tuplav2)\n",
        "\n",
        "print(lista)\n",
        "\n",
        "tupla = (1, 2.0, '3', [4, 5], (6, 7, 8))\n",
        "print(tupla)\n",
        "\n",
        "print(tupla[0])\n",
        "print(tupla[4])\n",
        "print(tupla[2:4])\n",
        "\n",
        "\n",
        "print(tupla + tuplav2)\n",
        "\n",
        "\n",
        "\n",
        "#tupla[0] = 1, nmop , inmutable\n",
        "\n",
        "#borrar valores en tuplas, no podemos, podemso redefinir o sobreescribir\n",
        "\n",
        "print(tupla)\n",
        "\n",
        "tupla3 = (1, 2.0, '3', [4, 5], (6, 7, 8))\n",
        "\n",
        "\n",
        "print(tupla3)\n",
        "\n",
        "print(tupla3.count(1))\n",
        "\n",
        "print(tupla3.index(2.0))\n",
        "\n",
        "print(len(tupla3))\n",
        "\n",
        "\n",
        "tupla3 = list(tupla3)\n",
        "\n",
        "tupla3[1] = 2.2\n",
        "\n",
        "tupla3 = tuple(tupla3)\n",
        "\n",
        "print(tupla3)"
      ],
      "metadata": {
        "colab": {
          "base_uri": "https://localhost:8080/"
        },
        "id": "pWhV2VOS2UMj",
        "outputId": "7ea36f70-a38b-4f2e-9f2a-71aaa2ddd497"
      },
      "execution_count": 116,
      "outputs": [
        {
          "output_type": "stream",
          "name": "stdout",
          "text": [
            "[1, 2, 3, 4, 5]\n",
            "(1, 2.0, '3', [4, 5], (6, 7, 8))\n",
            "1\n",
            "(6, 7, 8)\n",
            "('3', [4, 5])\n",
            "(1, 2.0, '3', [4, 5], (6, 7, 8), 1, 2, 3, 4, 5)\n",
            "(1, 2.0, '3', [4, 5], (6, 7, 8))\n",
            "(1, 2.0, '3', [4, 5], (6, 7, 8))\n",
            "1\n",
            "1\n",
            "5\n",
            "(1, 2.2, '3', [4, 5], (6, 7, 8))\n"
          ]
        }
      ]
    },
    {
      "cell_type": "code",
      "source": [
        "tupla = (5, 12, 7, 37, 8, 86, 19, 7, -783, 87, 188, 7, 9, 12, 7, 3982)\n",
        "\n",
        "print(tupla[-1])\n",
        "print(len(tupla))\n",
        "print(tupla.index(87))\n",
        "\n",
        "lista = list(tupla[-3:])\n",
        "print(lista)\n",
        "\n",
        "print(tupla.count(7))"
      ],
      "metadata": {
        "colab": {
          "base_uri": "https://localhost:8080/"
        },
        "id": "Vad0QCJk6vLF",
        "outputId": "bd575de5-ec54-47af-f1c1-6662059814c9"
      },
      "execution_count": 118,
      "outputs": [
        {
          "output_type": "stream",
          "name": "stdout",
          "text": [
            "3982\n",
            "16\n",
            "9\n",
            "[12, 7, 3982]\n",
            "4\n"
          ]
        }
      ]
    }
  ]
}